{
 "cells": [
  {
   "cell_type": "code",
   "execution_count": 111,
   "id": "aa27c0f5",
   "metadata": {},
   "outputs": [],
   "source": [
    "import pandas as pd\n",
    "import numpy as np\n",
    "from semopy import Model\n",
    "import matplotlib.pyplot as plt"
   ]
  },
  {
   "cell_type": "code",
   "execution_count": 112,
   "id": "e2d8d007",
   "metadata": {},
   "outputs": [],
   "source": [
    "# Load the dataset\n",
    "data = pd.read_csv(\"/Users/stageacomeback/Desktop/Gerard Lee/Job [MATH RA]/CLPM & RI-CLPM/Gerard's Working Environment/Model Results/Data Cleaning & FInal CLPM Model/Quantile-based Outlier Detection/7th Trial.csv\")"
   ]
  },
  {
   "cell_type": "code",
   "execution_count": 113,
   "id": "ec0450c0",
   "metadata": {},
   "outputs": [],
   "source": [
    "# Define the Cross-Lagged Panel Model (CLPM) in semopy syntax\n",
    "model_desc = \"\"\"\n",
    "R3TTF ~ R2TTF + R2OWB + R2AU\n",
    "R3OWB ~ R2OWB + R2TTF + R2AU\n",
    "R3AU ~ R2AU + R2TTF + R2OWB\n",
    "\n",
    "# Covariances at Wave 2\n",
    "R2TTF ~~ R2OWB + R2AU\n",
    "R2OWB ~~ R2AU\n",
    "\n",
    "# Covariances at Wave 3\n",
    "R3TTF ~~ R3OWB + R3AU\n",
    "R3OWB ~~ R3AU\n",
    "\"\"\""
   ]
  },
  {
   "cell_type": "code",
   "execution_count": 114,
   "id": "ab3da972",
   "metadata": {},
   "outputs": [
    {
     "data": {
      "text/plain": [
       "<semopy.model.Model at 0x178e77950>"
      ]
     },
     "execution_count": 114,
     "metadata": {},
     "output_type": "execute_result"
    }
   ],
   "source": [
    "# Create the model\n",
    "model = Model(model_desc)\n",
    "model"
   ]
  },
  {
   "cell_type": "code",
   "execution_count": 115,
   "id": "a38d5474",
   "metadata": {},
   "outputs": [
    {
     "name": "stdout",
     "output_type": "stream",
     "text": [
      "Model Summary:\n",
      "     lval  op   rval  Estimate  Std. Err   z-value       p-value\n",
      "0   R3TTF   ~  R2TTF  0.246378  0.084228  2.925140  3.443012e-03\n",
      "1   R3TTF   ~  R2OWB  0.205050  0.088365  2.320484  2.031470e-02\n",
      "2   R3TTF   ~   R2AU  0.128886  0.064428  2.000465  4.545010e-02\n",
      "3   R3OWB   ~  R2OWB  0.111667  0.071048  1.571717  1.160163e-01\n",
      "4   R3OWB   ~  R2TTF  0.365024  0.067721  5.390086  7.042404e-08\n",
      "5   R3OWB   ~   R2AU  0.151074  0.051802  2.916390  3.541080e-03\n",
      "6    R3AU   ~   R2AU  0.339596  0.065049  5.220639  1.783066e-07\n",
      "7    R3AU   ~  R2TTF  0.274621  0.085040  3.229330  1.240805e-03\n",
      "8    R3AU   ~  R2OWB  0.235387  0.089217  2.638377  8.330402e-03\n",
      "9   R2TTF  ~~  R2OWB  0.295878  0.030881  9.581232  0.000000e+00\n",
      "10  R2TTF  ~~   R2AU  0.195997  0.050221  3.902704  9.512394e-05\n",
      "11  R2OWB  ~~   R2AU  0.246994  0.045996  5.369923  7.877036e-08\n",
      "12  R3TTF  ~~  R3OWB  0.171738  0.036862  4.658879  3.179357e-06\n",
      "13  R3TTF  ~~   R3AU  0.077308  0.043701  1.769040  7.688723e-02\n",
      "14  R3TTF  ~~  R3TTF  0.565794  0.060659  9.327379  0.000000e+00\n",
      "15  R3OWB  ~~   R3AU  0.111480  0.035830  3.111353  1.862324e-03\n",
      "16  R3OWB  ~~  R3OWB  0.365760  0.039214  9.327379  0.000000e+00\n",
      "17   R3AU  ~~   R3AU  0.576751  0.061834  9.327379  0.000000e+00\n"
     ]
    }
   ],
   "source": [
    "# Fit the model to the dataset\n",
    "try:\n",
    "    model.fit(data)\n",
    "    print(\"Model Summary:\")\n",
    "    print(model.inspect())\n",
    "except Exception as e:\n",
    "    print(f\"Model fitting failed on the original dataset: {e}\")\n",
    "    exit()"
   ]
  },
  {
   "cell_type": "code",
   "execution_count": 116,
   "id": "3f4cd659",
   "metadata": {},
   "outputs": [],
   "source": [
    "# Monte Carlo Simulation for repeated sampling\n",
    "np.random.seed(123)  # For reproducibility\n",
    "n_simulations = 1000\n",
    "simulated_errors = []"
   ]
  },
  {
   "cell_type": "code",
   "execution_count": 117,
   "id": "bc369127",
   "metadata": {},
   "outputs": [],
   "source": [
    "for i in range(n_simulations):\n",
    "    # Generate a bootstrap sample\n",
    "    bootstrap_sample = data.sample(n=len(data), replace=True)\n",
    "\n",
    "    try:\n",
    "        # Fit the model to the bootstrap sample\n",
    "        model.fit(bootstrap_sample)\n",
    "        \n",
    "        # Extract standard errors from the model\n",
    "        std_errors = model.inspect(\"se\")\n",
    "        \n",
    "        if std_errors is not None:\n",
    "            simulated_errors.append(std_errors)\n",
    "    except Exception as e:\n",
    "        # Skip iterations where model fitting fails\n",
    "        print(f\"Model fitting failed in simulation {i+1}: {e}\")\n",
    "        continue"
   ]
  },
  {
   "cell_type": "code",
   "execution_count": 118,
   "id": "291f903d",
   "metadata": {},
   "outputs": [
    {
     "name": "stdout",
     "output_type": "stream",
     "text": [
      "No valid standard errors were obtained during the simulation. Check the model or data.\n"
     ]
    }
   ],
   "source": [
    "# Check if we have valid results\n",
    "if len(simulated_errors) == 0:\n",
    "    print(\"No valid standard errors were obtained during the simulation. Check the model or data.\")\n",
    "else:\n",
    "    # Convert simulated standard errors to a DataFrame\n",
    "    simulated_errors_df = pd.DataFrame(simulated_errors)\n",
    "\n",
    "    # Identify outliers based on the 90 percentile\n",
    "    outliers = simulated_errors_df[simulated_errors_df > simulated_errors_df.quantile(0.9)].dropna(how=\"all\")\n",
    "\n",
    "    # Print simulation results and outliers\n",
    "    print(\"Summary of Simulated Standard Errors:\")\n",
    "    print(simulated_errors_df.describe())\n",
    "    print(\"Outliers detected:\")\n",
    "    print(outliers)\n",
    "\n",
    "    # Visualize the standard error distribution\n",
    "    plt.hist(simulated_errors_df.values.flatten(), bins=30, color=\"skyblue\", edgecolor=\"white\")\n",
    "    plt.title(\"Distribution of Simulated Standard Errors\")\n",
    "    plt.xlabel(\"Standard Error\")\n",
    "    plt.ylabel(\"Frequency\")\n",
    "    plt.show()"
   ]
  }
 ],
 "metadata": {
  "kernelspec": {
   "display_name": "base",
   "language": "python",
   "name": "python3"
  },
  "language_info": {
   "codemirror_mode": {
    "name": "ipython",
    "version": 3
   },
   "file_extension": ".py",
   "mimetype": "text/x-python",
   "name": "python",
   "nbconvert_exporter": "python",
   "pygments_lexer": "ipython3",
   "version": "3.11.4"
  }
 },
 "nbformat": 4,
 "nbformat_minor": 5
}
