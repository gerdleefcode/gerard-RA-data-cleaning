{
 "cells": [
  {
   "cell_type": "code",
   "execution_count": 1,
   "id": "c2848782",
   "metadata": {},
   "outputs": [],
   "source": [
    "import pandas as pd\n",
    "import numpy as np"
   ]
  },
  {
   "cell_type": "code",
   "execution_count": 2,
   "id": "104f8ca8",
   "metadata": {},
   "outputs": [],
   "source": [
    "data = pd.read_csv(\"/Users/stageacomeback/Desktop/Data Cleaning & FInal CLPM Model/Dataset Modification/1st Trial.csv\")"
   ]
  },
  {
   "cell_type": "code",
   "execution_count": 3,
   "id": "d2817a81",
   "metadata": {},
   "outputs": [],
   "source": [
    "# Function to calculate standard error\n",
    "def calculate_standard_error(row):\n",
    "    return np.std(row, ddof=1) / np.sqrt(len(row))"
   ]
  },
  {
   "cell_type": "code",
   "execution_count": 4,
   "id": "0e9355a1",
   "metadata": {},
   "outputs": [],
   "source": [
    "# Calculate standard error for each row\n",
    "data['Standard_Error'] = data.apply(calculate_standard_error, axis=1)"
   ]
  },
  {
   "cell_type": "code",
   "execution_count": null,
   "id": "3a4270e3",
   "metadata": {},
   "outputs": [],
   "source": [
    "# Define a threshold for outliers (e.g., rows with standard error above the 90th percentile)\n",
    "threshold = data['Standard_Error'].quantile(0.90)"
   ]
  },
  {
   "cell_type": "code",
   "execution_count": 9,
   "id": "4d80625a",
   "metadata": {},
   "outputs": [],
   "source": [
    "# Identify outlier rows\n",
    "outliers = data[data['Standard_Error'] > threshold]"
   ]
  },
  {
   "cell_type": "code",
   "execution_count": 10,
   "id": "64de67e1",
   "metadata": {},
   "outputs": [
    {
     "name": "stdout",
     "output_type": "stream",
     "text": [
      "Outlier Rows:\n",
      "     R2AU  R3AU  R2TTF  R3TTF  R2OWB  R3OWB  Standard_Error\n",
      "20      4     3      6      5      6      5        0.477261\n",
      "26      4     5      3      6      4      5        0.428174\n",
      "32      6     3      6      5      6      5        0.477261\n",
      "33      5     7      6      4      6      5        0.428174\n",
      "70      4     3      7      6      6      6        0.614636\n",
      "84      5     6      3      2      1      2        0.792324\n",
      "87      6     6      6      5      3      5        0.477261\n",
      "104     4     7      4      4      5      6        0.516398\n",
      "109     5     5      7      6      6      4        0.428174\n",
      "117     5     6      3      4      5      6        0.477261\n",
      "118     4     3      5      6      5      4        0.428174\n",
      "120     5     3      6      6      5      5        0.447214\n",
      "126     3     4      6      6      6      6        0.542627\n",
      "152     5     5      7      4      5      4        0.447214\n",
      "172     3     3      6      5      5      5        0.500000\n",
      "178     5     6      2      6      6      6        0.654047\n",
      "187     7     6      6      6      5      3        0.562731\n",
      "191     5     3      5      6      6      5        0.447214\n"
     ]
    }
   ],
   "source": [
    "# Display outlier rows\n",
    "print(\"Outlier Rows:\")\n",
    "print(outliers)"
   ]
  },
  {
   "cell_type": "code",
   "execution_count": 11,
   "id": "8ddf711d",
   "metadata": {},
   "outputs": [],
   "source": [
    "# Remove outlier rows\n",
    "cleaned_data = data[data['Standard_Error'] <= threshold].drop(columns=['Standard_Error'])"
   ]
  },
  {
   "cell_type": "code",
   "execution_count": 12,
   "id": "75f7ca03",
   "metadata": {},
   "outputs": [],
   "source": [
    "# Save the cleaned data to a new file\n",
    "cleaned_data.to_csv(\"/Users/stageacomeback/Desktop/Cleaned_Desired_CLPM.csv\")"
   ]
  },
  {
   "cell_type": "code",
   "execution_count": 13,
   "id": "2e4a27b4",
   "metadata": {},
   "outputs": [
    {
     "name": "stdout",
     "output_type": "stream",
     "text": [
      "Cleaned dataset saved to 'Cleaned_Desired_CLPM.csv'.\n"
     ]
    }
   ],
   "source": [
    "print(f\"Cleaned dataset saved to 'Cleaned_Desired_CLPM.csv'.\")"
   ]
  }
 ],
 "metadata": {
  "kernelspec": {
   "display_name": "base",
   "language": "python",
   "name": "python3"
  },
  "language_info": {
   "codemirror_mode": {
    "name": "ipython",
    "version": 3
   },
   "file_extension": ".py",
   "mimetype": "text/x-python",
   "name": "python",
   "nbconvert_exporter": "python",
   "pygments_lexer": "ipython3",
   "version": "3.11.4"
  }
 },
 "nbformat": 4,
 "nbformat_minor": 5
}
