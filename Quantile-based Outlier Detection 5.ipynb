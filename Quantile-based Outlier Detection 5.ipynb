{
 "cells": [
  {
   "cell_type": "code",
   "execution_count": 2,
   "id": "c2848782",
   "metadata": {},
   "outputs": [],
   "source": [
    "import pandas as pd\n",
    "import numpy as np"
   ]
  },
  {
   "cell_type": "code",
   "execution_count": 3,
   "id": "104f8ca8",
   "metadata": {},
   "outputs": [],
   "source": [
    "data = pd.read_csv(\"/Users/stageacomeback/Desktop/4th Trial.csv\")"
   ]
  },
  {
   "cell_type": "code",
   "execution_count": 4,
   "id": "d2817a81",
   "metadata": {},
   "outputs": [],
   "source": [
    "# Function to calculate standard error\n",
    "def calculate_standard_error(row):\n",
    "    return np.std(row, ddof=1) / np.sqrt(len(row))"
   ]
  },
  {
   "cell_type": "code",
   "execution_count": 5,
   "id": "0e9355a1",
   "metadata": {},
   "outputs": [],
   "source": [
    "# Calculate standard error for each row\n",
    "data['Standard_Error'] = data.apply(calculate_standard_error, axis=1)"
   ]
  },
  {
   "cell_type": "code",
   "execution_count": 6,
   "id": "3a4270e3",
   "metadata": {},
   "outputs": [],
   "source": [
    "# Define a threshold for outliers (e.g., rows with standard error above the 95th percentile)\n",
    "threshold = data['Standard_Error'].quantile(0.95)"
   ]
  },
  {
   "cell_type": "code",
   "execution_count": 7,
   "id": "4d80625a",
   "metadata": {},
   "outputs": [],
   "source": [
    "# Identify outlier rows\n",
    "outliers = data[data['Standard_Error'] > threshold]"
   ]
  },
  {
   "cell_type": "code",
   "execution_count": 8,
   "id": "64de67e1",
   "metadata": {},
   "outputs": [
    {
     "name": "stdout",
     "output_type": "stream",
     "text": [
      "Outlier Rows:\n",
      "     R2AU  R3AU  R2TTF  R3TTF  R2OWB  R3OWB  Standard_Error\n",
      "30   4.00  1.00   4.00   4.83   4.63   5.00        0.606553\n",
      "45   3.00  4.25   6.33   6.00   5.63   6.00        0.531798\n",
      "61   2.00  3.50   3.67   5.67   3.50   5.25        0.545658\n",
      "82   4.00  3.50   6.83   6.67   6.38   6.00        0.588448\n",
      "96   4.50  4.25   3.17   1.67   1.50   1.88        0.545829\n",
      "122  1.75  2.00   5.67   5.00   3.25   3.88        0.643632\n",
      "137  4.75  2.00   5.17   5.00   4.75   5.38        0.511465\n",
      "138  2.50  1.00   4.50   3.33   4.38   3.00        0.530072\n",
      "141  2.00  2.00   5.00   4.00   4.00   4.00        0.500000\n",
      "144  3.50  4.25   6.33   6.00   6.25   5.88        0.486631\n",
      "157  2.25  5.50   5.50   5.17   5.75   6.38        0.591830\n",
      "180  2.25  2.25   6.00   4.67   3.75   3.88        0.589090\n"
     ]
    }
   ],
   "source": [
    "# Display outlier rows\n",
    "print(\"Outlier Rows:\")\n",
    "print(outliers)"
   ]
  },
  {
   "cell_type": "code",
   "execution_count": 9,
   "id": "8ddf711d",
   "metadata": {},
   "outputs": [],
   "source": [
    "# Remove outlier rows\n",
    "cleaned_data = data[data['Standard_Error'] <= threshold].drop(columns=['Standard_Error'])"
   ]
  },
  {
   "cell_type": "code",
   "execution_count": 10,
   "id": "75f7ca03",
   "metadata": {},
   "outputs": [],
   "source": [
    "# Save the cleaned data to a new file\n",
    "cleaned_data.to_csv(\"/Users/stageacomeback/Desktop/Cleaned_Desired_CLPM.csv\")"
   ]
  },
  {
   "cell_type": "code",
   "execution_count": 11,
   "id": "2e4a27b4",
   "metadata": {},
   "outputs": [
    {
     "name": "stdout",
     "output_type": "stream",
     "text": [
      "Cleaned dataset saved to 'Cleaned_Desired_CLPM.csv'.\n"
     ]
    }
   ],
   "source": [
    "print(f\"Cleaned dataset saved to 'Cleaned_Desired_CLPM.csv'.\")"
   ]
  }
 ],
 "metadata": {
  "kernelspec": {
   "display_name": "base",
   "language": "python",
   "name": "python3"
  },
  "language_info": {
   "codemirror_mode": {
    "name": "ipython",
    "version": 3
   },
   "file_extension": ".py",
   "mimetype": "text/x-python",
   "name": "python",
   "nbconvert_exporter": "python",
   "pygments_lexer": "ipython3",
   "version": "3.11.4"
  }
 },
 "nbformat": 4,
 "nbformat_minor": 5
}
