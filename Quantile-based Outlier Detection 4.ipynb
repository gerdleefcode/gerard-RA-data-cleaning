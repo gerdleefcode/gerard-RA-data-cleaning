{
 "cells": [
  {
   "cell_type": "code",
   "execution_count": 31,
   "id": "c2848782",
   "metadata": {},
   "outputs": [],
   "source": [
    "import pandas as pd\n",
    "import numpy as np"
   ]
  },
  {
   "cell_type": "code",
   "execution_count": null,
   "id": "104f8ca8",
   "metadata": {},
   "outputs": [],
   "source": [
    "data = pd.read_csv(\"/Users/stageacomeback/Desktop/Desired CLPM.csv\")"
   ]
  },
  {
   "cell_type": "code",
   "execution_count": 33,
   "id": "d2817a81",
   "metadata": {},
   "outputs": [],
   "source": [
    "# Function to calculate standard error\n",
    "def calculate_standard_error(row):\n",
    "    return np.std(row, ddof=1) / np.sqrt(len(row))"
   ]
  },
  {
   "cell_type": "code",
   "execution_count": null,
   "id": "0e9355a1",
   "metadata": {},
   "outputs": [],
   "source": [
    "# Calculate standard error for each row\n",
    "data['Standard_Error'] = data.apply(calculate_standard_error, axis=1)"
   ]
  },
  {
   "cell_type": "code",
   "execution_count": 36,
   "id": "3a4270e3",
   "metadata": {},
   "outputs": [],
   "source": [
    "# Define a threshold for outliers (e.g., rows with standard error above the 95th percentile)\n",
    "threshold = data['Standard_Error'].quantile(0.95)"
   ]
  },
  {
   "cell_type": "code",
   "execution_count": 37,
   "id": "4d80625a",
   "metadata": {},
   "outputs": [],
   "source": [
    "# Identify outlier rows\n",
    "outliers = data[data['Standard_Error'] > threshold]"
   ]
  },
  {
   "cell_type": "code",
   "execution_count": 38,
   "id": "64de67e1",
   "metadata": {},
   "outputs": [
    {
     "name": "stdout",
     "output_type": "stream",
     "text": [
      "Outlier Rows:\n",
      "     R2AU1  R2AU2  R2AU3  R2AU4  R3AU1  R3AU2  R3AU3  R3AU4  R2TTF1  R2TTF2  \\\n",
      "1        5      7      5      4      1      7      5      4       6       6   \n",
      "11       7      6      6      4      2      7      5      5       7       6   \n",
      "12       6      3      5      2      7      3      5      2       5       3   \n",
      "29       2      2      2      2      3      5      5      5       1       1   \n",
      "33       1      1      1      1      2      1      1      1       5       5   \n",
      "88       6      3      7      3      1      6      5      7       7       6   \n",
      "95       5      7      6      5      3      5      7      5       6       5   \n",
      "117      7      5      6      4      1      5      5      7       7       3   \n",
      "136      2      6      7      7      7      5      4      6       6       5   \n",
      "166      2      1      1      2      4      5      5      6       2       2   \n",
      "228      7      7      7      7      6      7      4      5       6       7   \n",
      "229      6      5      5      7      1      7      5      6       5       3   \n",
      "\n",
      "     ...  R3PsWB3  R3PsWB4  R3PsWB5  R2PhWB1  R2PhWB2  R2PhWB3  R3PhWB1  \\\n",
      "1    ...        1        5        4        6        4        7        3   \n",
      "11   ...        7        6        7        2        6        5        3   \n",
      "12   ...        5        5        7        6        2        4        6   \n",
      "29   ...        5        4        4        2        2        2        5   \n",
      "33   ...        3        4        3        5        5        4        6   \n",
      "88   ...        5        6        5        4        3        6        3   \n",
      "95   ...        6        5        7        3        7        6        5   \n",
      "117  ...        4        2        5        5        6        4        7   \n",
      "136  ...        6        5        4        6        7        5        4   \n",
      "166  ...        6        5        6        2        2        2        6   \n",
      "228  ...        3        4        4        6        7        5        2   \n",
      "229  ...        7        6        6        2        7        3        5   \n",
      "\n",
      "     R3PhWB2  R3PhWB3  Standard_Error  \n",
      "1          5        3        0.312127  \n",
      "11         6        5        0.276402  \n",
      "12         2        5        0.287753  \n",
      "29         6        5        0.294197  \n",
      "33         6        6        0.289043  \n",
      "88         6        4        0.302471  \n",
      "95         5        5        0.280077  \n",
      "117        4        7        0.299286  \n",
      "136        5        3        0.281697  \n",
      "166        5        5        0.325879  \n",
      "228        7        4        0.277187  \n",
      "229        6        4        0.292250  \n",
      "\n",
      "[12 rows x 37 columns]\n"
     ]
    }
   ],
   "source": [
    "# Display outlier rows\n",
    "print(\"Outlier Rows:\")\n",
    "print(outliers)"
   ]
  },
  {
   "cell_type": "code",
   "execution_count": 39,
   "id": "8ddf711d",
   "metadata": {},
   "outputs": [],
   "source": [
    "# Remove outlier rows\n",
    "cleaned_data = data[data['Standard_Error'] <= threshold].drop(columns=['Standard_Error'])"
   ]
  },
  {
   "cell_type": "code",
   "execution_count": 40,
   "id": "75f7ca03",
   "metadata": {},
   "outputs": [],
   "source": [
    "# Save the cleaned data to a new file\n",
    "cleaned_data.to_csv(\"/Users/stageacomeback/Desktop/Cleaned_Desired_CLPM.csv\")"
   ]
  },
  {
   "cell_type": "code",
   "execution_count": 41,
   "id": "2e4a27b4",
   "metadata": {},
   "outputs": [
    {
     "name": "stdout",
     "output_type": "stream",
     "text": [
      "Cleaned dataset saved to 'Cleaned_Desired_CLPM.csv'.\n"
     ]
    }
   ],
   "source": [
    "print(f\"Cleaned dataset saved to 'Cleaned_Desired_CLPM.csv'.\")"
   ]
  }
 ],
 "metadata": {
  "kernelspec": {
   "display_name": "base",
   "language": "python",
   "name": "python3"
  },
  "language_info": {
   "codemirror_mode": {
    "name": "ipython",
    "version": 3
   },
   "file_extension": ".py",
   "mimetype": "text/x-python",
   "name": "python",
   "nbconvert_exporter": "python",
   "pygments_lexer": "ipython3",
   "version": "3.11.4"
  }
 },
 "nbformat": 4,
 "nbformat_minor": 5
}
